{
 "cells": [
  {
   "cell_type": "code",
   "execution_count": 1,
   "metadata": {},
   "outputs": [],
   "source": [
    "import tweepy as tp\n",
    "import os\n",
    "from dotenv import load_dotenv\n",
    "load_dotenv()\n",
    "\n",
    "env = dict(os.environ)"
   ]
  },
  {
   "cell_type": "code",
   "execution_count": 2,
   "metadata": {},
   "outputs": [],
   "source": [
    "client = tp.Client( \n",
    "    bearer_token=env['ACCESS_BEARER'],\n",
    "    consumer_key=env['CONSUMER_KEY'],\n",
    "    consumer_secret=env['CONSUMER_SECRET'],\n",
    "    access_token=env['ACCESS_TOKEN'],\n",
    "    access_token_secret=env['ACCESS_SECRET']\n",
    ")\n",
    "\n",
    "auth = tp.OAuth1UserHandler(consumer_key=env['CONSUMER_KEY'],\n",
    "    consumer_secret=env['CONSUMER_SECRET'],\n",
    "    access_token=env['ACCESS_TOKEN'],\n",
    "    access_token_secret=env['ACCESS_SECRET'])\n",
    "\n",
    "api = tp.API(auth, wait_on_rate_limit=True)"
   ]
  },
  {
   "cell_type": "code",
   "execution_count": 3,
   "metadata": {},
   "outputs": [
    {
     "data": {
      "text/plain": "12"
     },
     "execution_count": 3,
     "metadata": {},
     "output_type": "execute_result"
    }
   ],
   "source": [
    "len(api.list_timeline(list_id=1597755224684388353, owner_id=1094812631205101600))"
   ]
  },
  {
   "cell_type": "code",
   "execution_count": 4,
   "metadata": {},
   "outputs": [],
   "source": [
    "priv = client.get_user(username='imbesci').data.id\n"
   ]
  },
  {
   "cell_type": "code",
   "execution_count": 5,
   "metadata": {},
   "outputs": [
    {
     "data": {
      "text/plain": "1094812631205101570"
     },
     "execution_count": 5,
     "metadata": {},
     "output_type": "execute_result"
    }
   ],
   "source": [
    "priv"
   ]
  },
  {
   "cell_type": "code",
   "execution_count": 6,
   "metadata": {},
   "outputs": [
    {
     "ename": "NameError",
     "evalue": "name 'list_timeline' is not defined",
     "output_type": "error",
     "traceback": [
      "\u001B[0;31m---------------------------------------------------------------------------\u001B[0m",
      "\u001B[0;31mNameError\u001B[0m                                 Traceback (most recent call last)",
      "Cell \u001B[0;32mIn [6], line 1\u001B[0m\n\u001B[0;32m----> 1\u001B[0m \u001B[43mlist_timeline\u001B[49m\n",
      "\u001B[0;31mNameError\u001B[0m: name 'list_timeline' is not defined"
     ]
    }
   ],
   "source": [
    "list_timeline"
   ]
  },
  {
   "cell_type": "code",
   "execution_count": 24,
   "metadata": {},
   "outputs": [],
   "source": [
    "tweets = client.get_users_tweets(id=priv, max_results=100, exclude='retweets').data"
   ]
  },
  {
   "cell_type": "code",
   "execution_count": null,
   "metadata": {},
   "outputs": [],
   "source": [
    "#zerohedge 18856867\n",
    "#traders37 881877178572566500"
   ]
  }
 ],
 "metadata": {
  "kernelspec": {
   "display_name": "Python 3.10.6 ('env': venv)",
   "language": "python",
   "name": "python3"
  },
  "language_info": {
   "codemirror_mode": {
    "name": "ipython",
    "version": 3
   },
   "file_extension": ".py",
   "mimetype": "text/x-python",
   "name": "python",
   "nbconvert_exporter": "python",
   "pygments_lexer": "ipython3",
   "version": "3.8.15"
  },
  "orig_nbformat": 4,
  "vscode": {
   "interpreter": {
    "hash": "00f546cda7cf1b368cbc824c1d0e2a7d3f13bd550994509bb7fb8fb3046937cc"
   }
  }
 },
 "nbformat": 4,
 "nbformat_minor": 2
}
